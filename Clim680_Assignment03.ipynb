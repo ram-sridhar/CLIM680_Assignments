{
 "cells": [
  {
   "cell_type": "markdown",
   "id": "b727e122-2a86-45fe-88aa-f5c90f7c71cb",
   "metadata": {},
   "source": [
    "### Assignment to plot the composite of a variable of intererst (zonal wind stress) based on an index (RMM)"
   ]
  },
  {
   "cell_type": "markdown",
   "id": "2a2ea62f-dfff-4261-a853-9e6cef1ac9e7",
   "metadata": {},
   "source": [
    "#### RMM index is downloaded from:\n",
    "    \n",
    "http://www.bom.gov.au/climate/mjo/graphics/rmm.74toRealtime.txt\n",
    "\n",
    "#### RMM stands for Real-time Multivariate MJO Index. Wheeler and Hendon (2004) constructed the RMM index for monitoring the MJO. This index consists of the first two principal components (PCs) of OLR, 850-hPa zonal wind, and 200-hPa zonal wind averaged 15S-15N.\n",
    "\n",
    "#### The time series data is divided into eight phases based on the RMM values and each day is assigned to a phase between 1 and 8. Then, the composite average of all the days assocaited with each phase is calculated and plotted as shown below.\n",
    "\n",
    "##### References: \n",
    "##### Wheeler and Hendon (2004), An All-Season Real-Time Multivariate MJO Index: Development of an Index for Monitoring and Prediction"
   ]
  },
  {
   "cell_type": "code",
   "execution_count": 1,
   "id": "390dd13a-f5ee-4520-95bd-8f35c64e5303",
   "metadata": {},
   "outputs": [],
   "source": [
    "import xarray as xr\n",
    "import matplotlib.pyplot as plt\n",
    "import numpy as np\n",
    "import pandas as pd\n",
    "import cartopy.crs as ccrs\n",
    "import cartopy.mpl.ticker as cticker\n",
    "from cartopy.util import add_cyclic_point\n",
    "import cartopy.feature as feature\n",
    "\n",
    "import calendar"
   ]
  },
  {
   "cell_type": "markdown",
   "id": "064b7d87-8f0c-4205-893b-c04d774d46a5",
   "metadata": {},
   "source": [
    "#### Load daily zonal winds stress and calculate anomalies"
   ]
  },
  {
   "cell_type": "code",
   "execution_count": 2,
   "id": "7f1192cb-25b3-416d-825a-2b2e5a3bc906",
   "metadata": {},
   "outputs": [],
   "source": [
    "file='/home/rmantrip/CLIM680/clim680_dataset/tropflux/taux_tropflux_1979.2017.nc'\n",
    "ds=xr.open_dataset(file)\n",
    "taux = ds.taux.sel(time=slice('1980','2016')).astype('float32')\n",
    "\n",
    "tauxc = taux.groupby('time.dayofyear').mean() # Calculation of daily climatology\n",
    "tauxa = taux.groupby('time.dayofyear') - tauxc # Calculation of daily anomalies\n",
    "\n",
    "del taux,tauxc # deleted the variables to free the memory. Not necessary but initially thought of plotting the RMM phases for SST as well.\n",
    "               # SST occupies more memory and program freezes when executing the code.  "
   ]
  },
  {
   "cell_type": "markdown",
   "id": "5cd52044-342f-4eac-99b5-357750772339",
   "metadata": {},
   "source": [
    "#### Load RMM index "
   ]
  },
  {
   "cell_type": "code",
   "execution_count": 3,
   "id": "501e8ce3-7c54-4c93-b9c9-7f13d5b7d749",
   "metadata": {},
   "outputs": [],
   "source": [
    "path = '/home/rmantrip/CLIM680/clim680_dataset/'\n",
    "file='rmm.74toRealtime.txt'\n",
    "index_name='phase'\n",
    "\n",
    "df=pd.read_table(path+file,skiprows=2,\n",
    "                 header=None,delim_whitespace=True,\n",
    "                 index_col=0,parse_dates=False,\n",
    "                 na_values=['-99.9','-99.90'])\n",
    "df = df.query('1980 <= index <= 2016')\n",
    "phase = df.iloc[:,4].values"
   ]
  },
  {
   "cell_type": "markdown",
   "id": "aaf3366e-20a2-4b7d-9d52-f098583e15c8",
   "metadata": {},
   "source": [
    "#### Approximate locations of the MJO centre of convection RMM Index phases 1-8"
   ]
  },
  {
   "cell_type": "markdown",
   "id": "91dbc2c7-08f1-4577-859b-aba96aad79be",
   "metadata": {},
   "source": [
    "![MJO Phase Locations](MJOPhaseLocations.png)"
   ]
  },
  {
   "cell_type": "markdown",
   "id": "ece8ab28-3433-481e-ace5-d2e4023990a9",
   "metadata": {},
   "source": [
    "### Calculate the average of zonal wind stress anomlaies across RMM phases \n",
    "#### The data covers the period between 1980 and 2016."
   ]
  },
  {
   "cell_type": "markdown",
   "id": "2bcc1174-f5dc-4b5c-972d-18f71a892e2e",
   "metadata": {},
   "source": [
    "#### Instead of adding a RMM phase dimension to the zonal wind stress anomalies, I replaced the time values with RMM phase values (1-8). Thus, I can use groupby function to average across the RMM phases."
   ]
  },
  {
   "cell_type": "code",
   "execution_count": 4,
   "id": "07beaa90-a545-48f5-9e0f-159612ce0cab",
   "metadata": {},
   "outputs": [],
   "source": [
    "tauxa['time'] = phase\n",
    "tauxphase = tauxa.groupby('time').mean()"
   ]
  },
  {
   "cell_type": "code",
   "execution_count": null,
   "id": "12c2ea6b-ceee-43bc-b66c-83a258b78112",
   "metadata": {},
   "outputs": [],
   "source": [
    "# Define the figure and each axis for the 2 rows and 2 columns\n",
    "fig, axs = plt.subplots(nrows=8,ncols=1,\n",
    "                        subplot_kw={'projection': ccrs.PlateCarree(central_longitude=180)},\n",
    "                        figsize=(14,18))\n",
    "\n",
    "plt.rc({'titleweight':'bold'})\n",
    "\n",
    "font = {'family' : 'monospace',\n",
    "        'weight' : 'bold'}\n",
    "\n",
    "plt.rc('font', **font)  \n",
    "\n",
    "# axs is a 2 dimensional array of `GeoAxes`.  \n",
    "# We will flatten it into a 1-D array\n",
    "axs=axs.flatten()\n",
    "\n",
    "clevs=np.arange(-0.025,0.03,0.005)\n",
    "\n",
    "#Loop over all of the months and plot\n",
    "for i,seas in enumerate(tauxphase['time']):\n",
    "        # Select the month\n",
    "        data=tauxphase.sel(time=seas.values)\n",
    "\n",
    "        # Add the cyclic point\n",
    "        data,lons=add_cyclic_point(data,coord=tauxphase['longitude'])\n",
    "\n",
    "        # Contour plot\n",
    "        cs=axs[i].contourf(lons,tauxphase['latitude'],data,clevs,\n",
    "                          transform = ccrs.PlateCarree(),\n",
    "                          cmap='BrBG_r',extend='both')\n",
    "\n",
    "       # Longitude labels\n",
    "        axs[i].set_xticks(np.arange(-180,181,60), crs=ccrs.PlateCarree())\n",
    "        lon_formatter = cticker.LongitudeFormatter()\n",
    "        axs[i].xaxis.set_major_formatter(lon_formatter)\n",
    "\n",
    "        # Latitude labels\n",
    "        axs[i].set_yticks(np.arange(-30,31,15), crs=ccrs.PlateCarree())\n",
    "        lat_formatter = cticker.LatitudeFormatter()\n",
    "        axs[i].yaxis.set_major_formatter(lat_formatter)\n",
    "\n",
    "        # Title each subplot with the name of the month\n",
    "        axs[i].set_title('Phase - '+str(seas.values),fontweight='bold')\n",
    "\n",
    "        # Draw the coastines for each subplot\n",
    "        axs[i].coastlines()\n",
    "        \n",
    "# Adjust the location of the subplots \n",
    "# on the page to make room for the colorbar\n",
    "fig.subplots_adjust(bottom=0.25, top=0.9, left=0.05, right=0.95,\n",
    "                    wspace=0.2, hspace=0.5)\n",
    "\n",
    "# Add a colorbar axis at the bottom of the graph\n",
    "cbar_ax = fig.add_axes([0.3, 0.2, 0.4, 0.01])\n",
    "\n",
    "# Draw the colorbar\n",
    "cbar=fig.colorbar(cs, cax=cbar_ax,orientation='horizontal',label='N$m^{-2}$')\n",
    "\n",
    "# Add a big title at the top\n",
    "plt.suptitle('Composite of Zonal Wind Stress Anomlaies for MJO Phases',fontsize=18,y=0.93);"
   ]
  },
  {
   "cell_type": "markdown",
   "id": "2841c57c-c3cf-43b9-952b-efc818297ab3",
   "metadata": {},
   "source": [
    "#### Interpretation:\n",
    "\n",
    "#### The positive (brown shading) and negative (green shading) anomalies indicate westerly and easterly zonal wind stress anomlaies, respectively. \n",
    "\n",
    "#### The westerly zonal wind anomalies associated with the convection (clouds) initiate over the Indian ocean in phase 2 and moves eastward towards the maritime continent (phases 4-5) and central Pacific (7-8). The MJO associated convective signals weakens and decouple with the winds (not shown). The anomlaous winds associated with the MJO moves faster in the eastern Pacifc than in Indian ocean. \n"
   ]
  },
  {
   "cell_type": "markdown",
   "id": "f6e6ffb9-c73a-49d3-96ef-1c31d65489b5",
   "metadata": {},
   "source": []
  }
 ],
 "metadata": {
  "kernelspec": {
   "display_name": "clim_data",
   "language": "python",
   "name": "clim_data"
  },
  "language_info": {
   "codemirror_mode": {
    "name": "ipython",
    "version": 3
   },
   "file_extension": ".py",
   "mimetype": "text/x-python",
   "name": "python",
   "nbconvert_exporter": "python",
   "pygments_lexer": "ipython3",
   "version": "3.10.4"
  }
 },
 "nbformat": 4,
 "nbformat_minor": 5
}
